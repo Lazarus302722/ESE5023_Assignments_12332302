{
 "cells": [
  {
   "cell_type": "markdown",
   "id": "e94476b5",
   "metadata": {},
   "source": [
    "Assignment 5 (due on 12/20)\n",
    "\n",
    "Student：南星宇（12332302），Gtihub：Lazarus302722\n",
    "\n",
    "批改人：赵淑慧\n",
    "\n",
    "得分：37/40\n",
    "\n",
    "Bonus：10/15"
   ]
  },
  {
   "cell_type": "markdown",
   "id": "2504e3e1",
   "metadata": {},
   "source": [
    "1.1 14/15 初值为1986年的740和900，因此从1987年开始应为函数返回数组的第二个值开始，也就是data1应为f[1:,0]而不是f[2:,0]\n",
    "\n",
    "1.2 19/20 同上\n",
    "\n",
    "1.3 4/5 同上\n",
    "\n",
    "Bonus 10/15 基本实现了微分方程的计算，所使用的land-use文件可从文章参考文献9找到，  \n",
    "见网址：https://data.ess-dive.lbl.gov/view/doi%3A10.3334%2FCDIAC%2FLUE.NDP050.2008 中的 Global_land-use_flux-1850_2005.xls"
   ]
  }
 ],
 "metadata": {
  "kernelspec": {
   "display_name": "Python 3 (ipykernel)",
   "language": "python",
   "name": "python3"
  },
  "language_info": {
   "codemirror_mode": {
    "name": "ipython",
    "version": 3
   },
   "file_extension": ".py",
   "mimetype": "text/x-python",
   "name": "python",
   "nbconvert_exporter": "python",
   "pygments_lexer": "ipython3",
   "version": "3.8.8"
  }
 },
 "nbformat": 4,
 "nbformat_minor": 5
}
