{
 "cells": [
  {
   "cell_type": "code",
   "execution_count": 1,
   "id": "b51383b3",
   "metadata": {},
   "outputs": [],
   "source": [
    "# import pandas \n",
    "import pandas as pd\n",
    "# import numpy\n",
    "import numpy as np\n",
    "# import matplotlib\n",
    "from matplotlib import pyplot as plt\n",
    "# make plots appear and be stored within the notebook\n",
    "%matplotlib inline"
   ]
  },
  {
   "cell_type": "code",
   "execution_count": 27,
   "id": "0207399c",
   "metadata": {
    "scrolled": true
   },
   "outputs": [
    {
     "name": "stdout",
     "output_type": "stream",
     "text": [
      "<class 'pandas.core.frame.DataFrame'>\n",
      "RangeIndex: 6396 entries, 0 to 6395\n",
      "Data columns (total 49 columns):\n",
      " #   Column                              Non-Null Count  Dtype  \n",
      "---  ------                              --------------  -----  \n",
      " 0   Search Parameters                   1 non-null      object \n",
      " 1   Id                                  6395 non-null   float64\n",
      " 2   Year                                6395 non-null   float64\n",
      " 3   Mo                                  5986 non-null   float64\n",
      " 4   Dy                                  5830 non-null   float64\n",
      " 5   Hr                                  4346 non-null   float64\n",
      " 6   Mn                                  4137 non-null   float64\n",
      " 7   Sec                                 4368 non-null   float64\n",
      " 8   Tsu                                 1976 non-null   float64\n",
      " 9   Vol                                 77 non-null     float64\n",
      " 10  Country                             6394 non-null   object \n",
      " 11  Area                                331 non-null    object \n",
      " 12  Region                              6395 non-null   float64\n",
      " 13  Location Name                       6394 non-null   object \n",
      " 14  Latitude                            6343 non-null   float64\n",
      " 15  Longitude                           6343 non-null   float64\n",
      " 16  Focal Depth (km)                    3423 non-null   float64\n",
      " 17  Mag                                 4619 non-null   float64\n",
      " 18  Mw                                  1645 non-null   float64\n",
      " 19  Ms                                  2996 non-null   float64\n",
      " 20  Mb                                  1837 non-null   float64\n",
      " 21  Ml                                  190 non-null    float64\n",
      " 22  Mfa                                 14 non-null     float64\n",
      " 23  Unk                                 791 non-null    float64\n",
      " 24  MMI Int                             3103 non-null   float64\n",
      " 25  Deaths                              2165 non-null   float64\n",
      " 26  Death Description                   2646 non-null   float64\n",
      " 27  Missing                             25 non-null     float64\n",
      " 28  Missing Description                 26 non-null     float64\n",
      " 29  Injuries                            1373 non-null   float64\n",
      " 30  Injuries Description                1602 non-null   float64\n",
      " 31  Damage ($Mil)                       569 non-null    float64\n",
      " 32  Damage Description                  4634 non-null   float64\n",
      " 33  Houses Destroyed                    876 non-null    float64\n",
      " 34  Houses Destroyed Description        1876 non-null   float64\n",
      " 35  Houses Damaged                      562 non-null    float64\n",
      " 36  Houses Damaged Description          1096 non-null   float64\n",
      " 37  Total Deaths                        1981 non-null   float64\n",
      " 38  Total Death Description             2356 non-null   float64\n",
      " 39  Total Missing                       28 non-null     float64\n",
      " 40  Total Missing Description           32 non-null     float64\n",
      " 41  Total Injuries                      1397 non-null   float64\n",
      " 42  Total Injuries Description          1626 non-null   float64\n",
      " 43  Total Damage ($Mil)                 549 non-null    float64\n",
      " 44  Total Damage Description            3738 non-null   float64\n",
      " 45  Total Houses Destroyed              908 non-null    float64\n",
      " 46  Total Houses Destroyed Description  1959 non-null   float64\n",
      " 47  Total Houses Damaged                507 non-null    float64\n",
      " 48  Total Houses Damaged Description    988 non-null    float64\n",
      "dtypes: float64(45), object(4)\n",
      "memory usage: 2.4+ MB\n"
     ]
    }
   ],
   "source": [
    "Sig_Eqs=pd.read_csv(\"earthquakes-2023-10-27_16-35-15_+0800.tsv\",delimiter=\"\\t\")\n",
    "Sig_Eqs.info()"
   ]
  },
  {
   "cell_type": "code",
   "execution_count": 3,
   "id": "bc0907d7",
   "metadata": {},
   "outputs": [
    {
     "data": {
      "text/html": [
       "<div>\n",
       "<style scoped>\n",
       "    .dataframe tbody tr th:only-of-type {\n",
       "        vertical-align: middle;\n",
       "    }\n",
       "\n",
       "    .dataframe tbody tr th {\n",
       "        vertical-align: top;\n",
       "    }\n",
       "\n",
       "    .dataframe thead th {\n",
       "        text-align: right;\n",
       "    }\n",
       "</style>\n",
       "<table border=\"1\" class=\"dataframe\">\n",
       "  <thead>\n",
       "    <tr style=\"text-align: right;\">\n",
       "      <th></th>\n",
       "      <th>Deaths</th>\n",
       "    </tr>\n",
       "    <tr>\n",
       "      <th>Country</th>\n",
       "      <th></th>\n",
       "    </tr>\n",
       "  </thead>\n",
       "  <tbody>\n",
       "    <tr>\n",
       "      <th>CHINA</th>\n",
       "      <td>2075045.0</td>\n",
       "    </tr>\n",
       "    <tr>\n",
       "      <th>TURKEY</th>\n",
       "      <td>1188881.0</td>\n",
       "    </tr>\n",
       "    <tr>\n",
       "      <th>IRAN</th>\n",
       "      <td>1011449.0</td>\n",
       "    </tr>\n",
       "    <tr>\n",
       "      <th>ITALY</th>\n",
       "      <td>498478.0</td>\n",
       "    </tr>\n",
       "    <tr>\n",
       "      <th>SYRIA</th>\n",
       "      <td>439224.0</td>\n",
       "    </tr>\n",
       "    <tr>\n",
       "      <th>HAITI</th>\n",
       "      <td>323478.0</td>\n",
       "    </tr>\n",
       "    <tr>\n",
       "      <th>AZERBAIJAN</th>\n",
       "      <td>317219.0</td>\n",
       "    </tr>\n",
       "    <tr>\n",
       "      <th>JAPAN</th>\n",
       "      <td>279085.0</td>\n",
       "    </tr>\n",
       "    <tr>\n",
       "      <th>ARMENIA</th>\n",
       "      <td>191890.0</td>\n",
       "    </tr>\n",
       "    <tr>\n",
       "      <th>PAKISTAN</th>\n",
       "      <td>145083.0</td>\n",
       "    </tr>\n",
       "  </tbody>\n",
       "</table>\n",
       "</div>"
      ],
      "text/plain": [
       "               Deaths\n",
       "Country              \n",
       "CHINA       2075045.0\n",
       "TURKEY      1188881.0\n",
       "IRAN        1011449.0\n",
       "ITALY        498478.0\n",
       "SYRIA        439224.0\n",
       "HAITI        323478.0\n",
       "AZERBAIJAN   317219.0\n",
       "JAPAN        279085.0\n",
       "ARMENIA      191890.0\n",
       "PAKISTAN     145083.0"
      ]
     },
     "execution_count": 3,
     "metadata": {},
     "output_type": "execute_result"
    }
   ],
   "source": [
    "#Compute the total number of deaths caused by earthquakes since 2150 B.C. in each country, and then print the top ten countries along with the total number of deaths.\n",
    "Death=Sig_Eqs[['Country','Deaths']]\n",
    "Death.groupby(['Country']).sum().sort_values('Deaths', ascending=False).head(10)"
   ]
  },
  {
   "cell_type": "code",
   "execution_count": 69,
   "id": "d65127f8",
   "metadata": {},
   "outputs": [
    {
     "data": {
      "text/plain": [
       "<matplotlib.collections.PathCollection at 0x1fa2c04ee10>"
      ]
     },
     "execution_count": 69,
     "metadata": {},
     "output_type": "execute_result"
    },
    {
     "data": {
      "image/png": "[encoded data removed]",
      "text/plain": [
       "<Figure size 640x480 with 1 Axes>"
      ]
     },
     "metadata": {},
     "output_type": "display_data"
    }
   ],
   "source": [
    "#Compute the total number of earthquakes with magnitude larger than 6.0 (use column Mag as the magnitude) worldwide each year, and then plot the time series. Do you observe any trend? Explain why or why not?\n",
    "Mag=Sig_Eqs[['Year','Mag']]\n",
    "Mag6=Mag[Mag['Mag']>=6.0]\n",
    "M=Mag6.groupby('Year').count()\n",
    "m=M.values\n",
    "Count=m.reshape(1,len(M.index))\n",
    "M.index\n",
    "Count\n",
    "plt.scatter(x=M.index,y=Count,marker='.')"
   ]
  },
  {
   "cell_type": "code",
   "execution_count": 74,
   "id": "454adf0f",
   "metadata": {},
   "outputs": [],
   "source": [
    "#Write a function CountEq_LargestEq that returns both (1) the total number of earthquakes since 2150 B.C. in a given country AND (2) the date of the largest earthquake ever happened in this country. Apply CountEq_LargestEq to every country in the file, report your results in a descending order.\n",
    "def CountEq_LargestEq(x):\n",
    "\n",
    "    Sig_Eqs=pd.read_csv(\"earthquakes-2023-10-27_16-35-15_+0800.tsv\",delimiter=\"\\t\")\n",
    "\n",
    "    Sig=Sig_Eqs[Sig_Eqs['Country']==x]\n",
    "\n",
    "    Sig=Sig[['Mag','Year','Mo','Dy']]\n",
    "\n",
    "    NUM=str(len(Sig))\n",
    "\n",
    "    TEMP=Sig.sort_values('Mag', ascending=False)\n",
    "\n",
    "    Year=TEMP.iloc[0]\n",
    "    if  np.isnan(Year['Mo']) and np.isnan(Year['Dy']):\n",
    "        DAT=str(int(Year['Year']))\n",
    "    elif np.isnan(Year['Dy']):\n",
    "        DAT=str(int(Year['Year']))+'-'+str(int(Year['Mo']))\n",
    "    else:\n",
    "            Y=str(int(Year['Year']))\n",
    "            M=str(int(Year['Mo']))\n",
    "            D=str(int(Year['Dy']))\n",
    "            DAT=Y+'-'+M+'-'+D\n",
    "    ALL=[NUM,DAT]\n",
    "    \n",
    "    \n",
    "    return ALL\n",
    "\n"
   ]
  },
  {
   "cell_type": "code",
   "execution_count": 105,
   "id": "0f12e4b6",
   "metadata": {
    "scrolled": true
   },
   "outputs": [],
   "source": [
    "Sig_Eqs_C=Sig_Eqs['Country']\n",
    "\n",
    "CTs=Sig_Eqs_C.unique()\n",
    "CTs\n",
    "L=len(CTs)\n",
    "Table=pd.Series(index=CTs[1:])\n",
    "Table['Name']=Table.index\n",
    "\n",
    "      "
   ]
  },
  {
   "cell_type": "code",
   "execution_count": 175,
   "id": "a4d07e5e",
   "metadata": {},
   "outputs": [
    {
     "ename": "TypeError",
     "evalue": "Series.__init__() got multiple values for argument 'index'",
     "output_type": "error",
     "traceback": [
      "\u001b[1;31m---------------------------------------------------------------------------\u001b[0m",
      "\u001b[1;31mTypeError\u001b[0m                                 Traceback (most recent call last)",
      "Cell \u001b[1;32mIn[175], line 20\u001b[0m\n\u001b[0;32m     18\u001b[0m         D\u001b[38;5;241m=\u001b[39m\u001b[38;5;28mstr\u001b[39m(\u001b[38;5;28mint\u001b[39m(Year[\u001b[38;5;124m'\u001b[39m\u001b[38;5;124mDy\u001b[39m\u001b[38;5;124m'\u001b[39m]))\n\u001b[0;32m     19\u001b[0m         DAT\u001b[38;5;241m=\u001b[39mY\u001b[38;5;241m+\u001b[39m\u001b[38;5;124m'\u001b[39m\u001b[38;5;124m-\u001b[39m\u001b[38;5;124m'\u001b[39m\u001b[38;5;241m+\u001b[39mM\u001b[38;5;241m+\u001b[39m\u001b[38;5;124m'\u001b[39m\u001b[38;5;124m-\u001b[39m\u001b[38;5;124m'\u001b[39m\u001b[38;5;241m+\u001b[39mD\n\u001b[1;32m---> 20\u001b[0m Table\u001b[38;5;241m=\u001b[39mpd\u001b[38;5;241m.\u001b[39mSeries(NUM,DAT,index\u001b[38;5;241m=\u001b[39m[\u001b[38;5;124m'\u001b[39m\u001b[38;5;124mJORDAN\u001b[39m\u001b[38;5;124m'\u001b[39m])\n",
      "\u001b[1;31mTypeError\u001b[0m: Series.__init__() got multiple values for argument 'index'"
     ]
    }
   ],
   "source": []
  }
 ],
 "metadata": {
  "kernelspec": {
   "display_name": "Python 3 (ipykernel)",
   "language": "python",
   "name": "python3"
  },
  "language_info": {
   "codemirror_mode": {
    "name": "ipython",
    "version": 3
   },
   "file_extension": ".py",
   "mimetype": "text/x-python",
   "name": "python",
   "nbconvert_exporter": "python",
   "pygments_lexer": "ipython3",
   "version": "3.11.5"
  }
 },
 "nbformat": 4,
 "nbformat_minor": 5
}
