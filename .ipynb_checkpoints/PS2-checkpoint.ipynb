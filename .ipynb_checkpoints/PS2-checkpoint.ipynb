{
 "cells": [
  {
   "cell_type": "code",
   "execution_count": 4,
   "id": "b51383b3",
   "metadata": {},
   "outputs": [],
   "source": [
    "# import pandas \n",
    "import pandas as pd\n",
    "# import numpy\n",
    "import numpy as np\n",
    "# import matplotlib\n",
    "from matplotlib import pyplot as plt\n",
    "# make plots appear and be stored within the notebook\n",
    "%matplotlib inline\n",
    "\n"
   ]
  },
  {
   "cell_type": "code",
   "execution_count": 187,
   "id": "0207399c",
   "metadata": {
    "scrolled": true
   },
   "outputs": [],
   "source": [
    "Sig_Eqs=pd.read_csv(\"earthquakes-2023-10-27_16-35-15_+0800.tsv\",delimiter=\"\\t\")\n"
   ]
  },
  {
   "cell_type": "code",
   "execution_count": 109,
   "id": "bc0907d7",
   "metadata": {},
   "outputs": [
    {
     "data": {
      "text/html": [
       "<div>\n",
       "<style scoped>\n",
       "    .dataframe tbody tr th:only-of-type {\n",
       "        vertical-align: middle;\n",
       "    }\n",
       "\n",
       "    .dataframe tbody tr th {\n",
       "        vertical-align: top;\n",
       "    }\n",
       "\n",
       "    .dataframe thead th {\n",
       "        text-align: right;\n",
       "    }\n",
       "</style>\n",
       "<table border=\"1\" class=\"dataframe\">\n",
       "  <thead>\n",
       "    <tr style=\"text-align: right;\">\n",
       "      <th></th>\n",
       "      <th>Deaths</th>\n",
       "    </tr>\n",
       "    <tr>\n",
       "      <th>Country</th>\n",
       "      <th></th>\n",
       "    </tr>\n",
       "  </thead>\n",
       "  <tbody>\n",
       "    <tr>\n",
       "      <th>CHINA</th>\n",
       "      <td>2075045.0</td>\n",
       "    </tr>\n",
       "    <tr>\n",
       "      <th>TURKEY</th>\n",
       "      <td>1188881.0</td>\n",
       "    </tr>\n",
       "    <tr>\n",
       "      <th>IRAN</th>\n",
       "      <td>1011449.0</td>\n",
       "    </tr>\n",
       "    <tr>\n",
       "      <th>ITALY</th>\n",
       "      <td>498478.0</td>\n",
       "    </tr>\n",
       "    <tr>\n",
       "      <th>SYRIA</th>\n",
       "      <td>439224.0</td>\n",
       "    </tr>\n",
       "    <tr>\n",
       "      <th>HAITI</th>\n",
       "      <td>323478.0</td>\n",
       "    </tr>\n",
       "    <tr>\n",
       "      <th>AZERBAIJAN</th>\n",
       "      <td>317219.0</td>\n",
       "    </tr>\n",
       "    <tr>\n",
       "      <th>JAPAN</th>\n",
       "      <td>279085.0</td>\n",
       "    </tr>\n",
       "    <tr>\n",
       "      <th>ARMENIA</th>\n",
       "      <td>191890.0</td>\n",
       "    </tr>\n",
       "    <tr>\n",
       "      <th>PAKISTAN</th>\n",
       "      <td>145083.0</td>\n",
       "    </tr>\n",
       "  </tbody>\n",
       "</table>\n",
       "</div>"
      ],
      "text/plain": [
       "               Deaths\n",
       "Country              \n",
       "CHINA       2075045.0\n",
       "TURKEY      1188881.0\n",
       "IRAN        1011449.0\n",
       "ITALY        498478.0\n",
       "SYRIA        439224.0\n",
       "HAITI        323478.0\n",
       "AZERBAIJAN   317219.0\n",
       "JAPAN        279085.0\n",
       "ARMENIA      191890.0\n",
       "PAKISTAN     145083.0"
      ]
     },
     "execution_count": 109,
     "metadata": {},
     "output_type": "execute_result"
    }
   ],
   "source": [
    "#Compute the total number of deaths caused by earthquakes since 2150 B.C. in each country, and then print the top ten countries along with the total number of deaths.\n",
    "Death=Sig_Eqs[['Country','Deaths']]\n",
    "Death.groupby(['Country']).sum().sort_values('Deaths', ascending=False).head(10)\n"
   ]
  },
  {
   "cell_type": "code",
   "execution_count": 162,
   "id": "d65127f8",
   "metadata": {},
   "outputs": [
    {
     "name": "stdout",
     "output_type": "stream",
     "text": [
      "Year\n",
      "-2150.0     1\n",
      "-2000.0     1\n",
      "-1250.0     1\n",
      "-1050.0     1\n",
      "-479.0      1\n",
      "           ..\n",
      " 2019.0    28\n",
      " 2020.0    17\n",
      " 2021.0    27\n",
      " 2022.0    21\n",
      " 2023.0    23\n",
      "Name: count, Length: 552, dtype: int64\n"
     ]
    },
    {
     "data": {
      "text/plain": [
       "<Axes: xlabel='Year'>"
      ]
     },
     "execution_count": 162,
     "metadata": {},
     "output_type": "execute_result"
    },
    {
     "data": {
      "image/png": "[encoded data removed]",
      "text/plain": [
       "<Figure size 640x480 with 1 Axes>"
      ]
     },
     "metadata": {},
     "output_type": "display_data"
    }
   ],
   "source": [
    "#Compute the total number of earthquakes with magnitude larger than 6.0 (use column Mag as the magnitude) worldwide each year, and then plot the time series. Do you observe any trend? Explain why or why not?\n",
    "Mag=Sig_Eqs[['Year','Mag']]\n",
    "Mag6=Mag[Mag['Mag']>=6.0]\n",
    "Mag6Y=Mag6['Year'].value_counts(sort = False)\n",
    "print(Mag6Y)\n",
    "Mag6Y.plot(kind='line',xlim=(-2150,2023))"
   ]
  },
  {
   "cell_type": "code",
   "execution_count": 178,
   "id": "454adf0f",
   "metadata": {},
   "outputs": [],
   "source": [
    "#Write a function CountEq_LargestEq that returns both (1) the total number of earthquakes since 2150 B.C. in a given country AND (2) the date of the largest earthquake ever happened in this country. Apply CountEq_LargestEq to every country in the file, report your results in a descending order.\n",
    "def CountEq_LargestEq(x):\n",
    "\n",
    "    Sig_Eqs=pd.read_csv(\"earthquakes-2023-10-27_16-35-15_+0800.tsv\",delimiter=\"\\t\")\n",
    "\n",
    "    Sig=Sig_Eqs[Sig_Eqs['Country']==x]\n",
    "\n",
    "    Sig=Sig[['Mag','Year','Mo','Dy']]\n",
    "\n",
    "    NUM=str(len(Sig))\n",
    "\n",
    "    TEMP=Sig.sort_values('Mag', ascending=False)\n",
    "\n",
    "    Year=TEMP.iloc[0]\n",
    "    if  np.isnan(Year['Mo']) and np.isnan(Year['Dy']):\n",
    "        DAT=str(int(Year['Year']))\n",
    "    elif np.isnan(Year['Dy']):\n",
    "        DAT=str(int(Year['Year']))+'-'+str(int(Year['Mo']))\n",
    "    else:\n",
    "            Y=str(int(Year['Year']))\n",
    "            M=str(int(Year['Mo']))\n",
    "            D=str(int(Year['Dy']))\n",
    "            DAT=Y+'-'+M+'-'+D\n",
    "    ALL='number='+NUM+'  '+'DATE:'+DAT        \n",
    "    \n",
    "    \n",
    "    return ALL\n",
    "\n"
   ]
  },
  {
   "cell_type": "code",
   "execution_count": 186,
   "id": "0f12e4b6",
   "metadata": {
    "scrolled": true
   },
   "outputs": [
    {
     "name": "stdout",
     "output_type": "stream",
     "text": [
      "JORDAN                 number=5  DATE:-2150\n",
      "SYRIA             number=33  DATE:1202-5-20\n",
      "TURKMENISTAN       number=11  DATE:1895-7-8\n",
      "GREECE            number=270  DATE:1303-8-8\n",
      "ISRAEL              number=24  DATE:-31-9-2\n",
      "                            ...            \n",
      "MOZAMBIQUE         number=3  DATE:2006-2-22\n",
      "CZECH REPUBLIC    number=1  DATE:2008-11-22\n",
      "MADAGASCAR         number=1  DATE:2017-1-11\n",
      "ZAMBIA             number=1  DATE:2017-2-24\n",
      "COMOROS            number=1  DATE:2018-5-15\n",
      "Length: 156, dtype: object\n"
     ]
    }
   ],
   "source": [
    "Sig_Eqs_C=Sig_Eqs['Country']\n",
    "CTs=Sig_Eqs_C.unique()\n",
    "L=len(CTs)\n",
    "Table=pd.Series(CountEq_LargestEq(CTs[1]),index=CTs[1:])\n",
    "for i in range(2,157):\n",
    "    Re=CountEq_LargestEq(CTs[i])\n",
    "    Table.loc[CTs[i]]=Re\n",
    "print(Table)        "
   ]
  },
  {
   "cell_type": "code",
   "execution_count": 175,
   "id": "a4d07e5e",
   "metadata": {},
   "outputs": [
    {
     "ename": "TypeError",
     "evalue": "Series.__init__() got multiple values for argument 'index'",
     "output_type": "error",
     "traceback": [
      "\u001b[1;31m---------------------------------------------------------------------------\u001b[0m",
      "\u001b[1;31mTypeError\u001b[0m                                 Traceback (most recent call last)",
      "Cell \u001b[1;32mIn[175], line 20\u001b[0m\n\u001b[0;32m     18\u001b[0m         D\u001b[38;5;241m=\u001b[39m\u001b[38;5;28mstr\u001b[39m(\u001b[38;5;28mint\u001b[39m(Year[\u001b[38;5;124m'\u001b[39m\u001b[38;5;124mDy\u001b[39m\u001b[38;5;124m'\u001b[39m]))\n\u001b[0;32m     19\u001b[0m         DAT\u001b[38;5;241m=\u001b[39mY\u001b[38;5;241m+\u001b[39m\u001b[38;5;124m'\u001b[39m\u001b[38;5;124m-\u001b[39m\u001b[38;5;124m'\u001b[39m\u001b[38;5;241m+\u001b[39mM\u001b[38;5;241m+\u001b[39m\u001b[38;5;124m'\u001b[39m\u001b[38;5;124m-\u001b[39m\u001b[38;5;124m'\u001b[39m\u001b[38;5;241m+\u001b[39mD\n\u001b[1;32m---> 20\u001b[0m Table\u001b[38;5;241m=\u001b[39mpd\u001b[38;5;241m.\u001b[39mSeries(NUM,DAT,index\u001b[38;5;241m=\u001b[39m[\u001b[38;5;124m'\u001b[39m\u001b[38;5;124mJORDAN\u001b[39m\u001b[38;5;124m'\u001b[39m])\n",
      "\u001b[1;31mTypeError\u001b[0m: Series.__init__() got multiple values for argument 'index'"
     ]
    }
   ],
   "source": []
  }
 ],
 "metadata": {
  "kernelspec": {
   "display_name": "Python 3 (ipykernel)",
   "language": "python",
   "name": "python3"
  },
  "language_info": {
   "codemirror_mode": {
    "name": "ipython",
    "version": 3
   },
   "file_extension": ".py",
   "mimetype": "text/x-python",
   "name": "python",
   "nbconvert_exporter": "python",
   "pygments_lexer": "ipython3",
   "version": "3.11.5"
  }
 },
 "nbformat": 4,
 "nbformat_minor": 5
}
